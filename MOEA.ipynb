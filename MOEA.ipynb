{
 "cells": [
  {
   "cell_type": "code",
   "execution_count": 2,
   "metadata": {
    "collapsed": true
   },
   "outputs": [
    {
     "name": "stderr",
     "output_type": "stream",
     "text": [
      "[MainProcess/INFO] pool started with 8 workers\n",
      "[MainProcess/INFO] terminating pool\n"
     ]
    },
    {
     "ename": "AttributeError",
     "evalue": "type object 'SobolSampler' has no attribute 'value'",
     "output_type": "error",
     "traceback": [
      "\u001B[1;31m---------------------------------------------------------------------------\u001B[0m",
      "\u001B[1;31mAttributeError\u001B[0m                            Traceback (most recent call last)",
      "\u001B[1;32m~\\AppData\\Local\\Temp/ipykernel_135004/2690996711.py\u001B[0m in \u001B[0;36m<module>\u001B[1;34m\u001B[0m\n\u001B[0;32m     33\u001B[0m \u001B[1;33m\u001B[0m\u001B[0m\n\u001B[0;32m     34\u001B[0m \u001B[1;32mwith\u001B[0m \u001B[0mMultiprocessingEvaluator\u001B[0m\u001B[1;33m(\u001B[0m\u001B[0mdike_model_2\u001B[0m\u001B[1;33m)\u001B[0m \u001B[1;32mas\u001B[0m \u001B[0mevaluator\u001B[0m\u001B[1;33m:\u001B[0m\u001B[1;33m\u001B[0m\u001B[1;33m\u001B[0m\u001B[0m\n\u001B[1;32m---> 35\u001B[1;33m     experiments, results = evaluator.perform_experiments(scenarios=100, policies=5,\n\u001B[0m\u001B[0;32m     36\u001B[0m                                                          uncertainty_sampling=SobolSampler)\n\u001B[0;32m     37\u001B[0m \u001B[1;33m\u001B[0m\u001B[0m\n",
      "\u001B[1;32m~\\miniconda3\\envs\\gds\\lib\\site-packages\\ema_workbench\\em_framework\\evaluators.py\u001B[0m in \u001B[0;36mperform_experiments\u001B[1;34m(self, scenarios, policies, reporting_interval, reporting_frequency, uncertainty_union, lever_union, outcome_union, uncertainty_sampling, lever_sampling, callback, combine)\u001B[0m\n\u001B[0;32m    199\u001B[0m \u001B[1;33m\u001B[0m\u001B[0m\n\u001B[0;32m    200\u001B[0m         \"\"\"\n\u001B[1;32m--> 201\u001B[1;33m         return perform_experiments(\n\u001B[0m\u001B[0;32m    202\u001B[0m             \u001B[0mself\u001B[0m\u001B[1;33m.\u001B[0m\u001B[0m_msis\u001B[0m\u001B[1;33m,\u001B[0m\u001B[1;33m\u001B[0m\u001B[1;33m\u001B[0m\u001B[0m\n\u001B[0;32m    203\u001B[0m             \u001B[0mscenarios\u001B[0m\u001B[1;33m=\u001B[0m\u001B[0mscenarios\u001B[0m\u001B[1;33m,\u001B[0m\u001B[1;33m\u001B[0m\u001B[1;33m\u001B[0m\u001B[0m\n",
      "\u001B[1;32m~\\miniconda3\\envs\\gds\\lib\\site-packages\\ema_workbench\\em_framework\\evaluators.py\u001B[0m in \u001B[0;36mperform_experiments\u001B[1;34m(models, scenarios, policies, evaluator, reporting_interval, reporting_frequency, uncertainty_union, lever_union, outcome_union, uncertainty_sampling, lever_sampling, callback, return_callback, combine, log_progress)\u001B[0m\n\u001B[0;32m    487\u001B[0m         )\n\u001B[0;32m    488\u001B[0m \u001B[1;33m\u001B[0m\u001B[0m\n\u001B[1;32m--> 489\u001B[1;33m     scenarios, uncertainties, n_scenarios = setup_scenarios(\n\u001B[0m\u001B[0;32m    490\u001B[0m         \u001B[0mscenarios\u001B[0m\u001B[1;33m,\u001B[0m \u001B[0muncertainty_sampling\u001B[0m\u001B[1;33m,\u001B[0m \u001B[0muncertainty_union\u001B[0m\u001B[1;33m,\u001B[0m \u001B[0mmodels\u001B[0m\u001B[1;33m\u001B[0m\u001B[1;33m\u001B[0m\u001B[0m\n\u001B[0;32m    491\u001B[0m     )\n",
      "\u001B[1;32m~\\miniconda3\\envs\\gds\\lib\\site-packages\\ema_workbench\\em_framework\\evaluators.py\u001B[0m in \u001B[0;36msetup_scenarios\u001B[1;34m(scenarios, uncertainty_sampling, uncertainty_union, models)\u001B[0m\n\u001B[0;32m    626\u001B[0m         \u001B[0msampler\u001B[0m \u001B[1;33m=\u001B[0m \u001B[0muncertainty_sampling\u001B[0m\u001B[1;33m\u001B[0m\u001B[1;33m\u001B[0m\u001B[0m\n\u001B[0;32m    627\u001B[0m         \u001B[1;32mif\u001B[0m \u001B[1;32mnot\u001B[0m \u001B[0misinstance\u001B[0m\u001B[1;33m(\u001B[0m\u001B[0msampler\u001B[0m\u001B[1;33m,\u001B[0m \u001B[0mAbstractSampler\u001B[0m\u001B[1;33m)\u001B[0m\u001B[1;33m:\u001B[0m\u001B[1;33m\u001B[0m\u001B[1;33m\u001B[0m\u001B[0m\n\u001B[1;32m--> 628\u001B[1;33m             \u001B[0msampler\u001B[0m \u001B[1;33m=\u001B[0m \u001B[0msampler\u001B[0m\u001B[1;33m.\u001B[0m\u001B[0mvalue\u001B[0m\u001B[1;33m\u001B[0m\u001B[1;33m\u001B[0m\u001B[0m\n\u001B[0m\u001B[0;32m    629\u001B[0m         scenarios = sample_uncertainties(\n\u001B[0;32m    630\u001B[0m             \u001B[0mmodels\u001B[0m\u001B[1;33m,\u001B[0m \u001B[0mscenarios\u001B[0m\u001B[1;33m,\u001B[0m \u001B[0msampler\u001B[0m\u001B[1;33m=\u001B[0m\u001B[0msampler\u001B[0m\u001B[1;33m,\u001B[0m \u001B[0munion\u001B[0m\u001B[1;33m=\u001B[0m\u001B[0muncertainty_union\u001B[0m\u001B[1;33m\u001B[0m\u001B[1;33m\u001B[0m\u001B[0m\n",
      "\u001B[1;31mAttributeError\u001B[0m: type object 'SobolSampler' has no attribute 'value'"
     ]
    }
   ],
   "source": [
    "from ema_workbench import (Model, RealParameter, ScalarOutcome,\n",
    "                           MultiprocessingEvaluator, ema_logging,\n",
    "                           Constant, Scenario)\n",
    "\n",
    "import numpy as np\n",
    "import pandas as pd\n",
    "import seaborn as sns\n",
    "import matplotlib.pyplot as plt\n",
    "\n",
    "from ema_workbench import RealParameter, ScalarOutcome, Constant, Model\n",
    "\n",
    "from dike_model_function import DikeNetwork  # @UnresolvedImport\n",
    "\n",
    "from ema_workbench import CategoricalParameter, IntegerParameter\n",
    "from problem_formulation import get_model_for_problem_formulation\n",
    "\n",
    "function = DikeNetwork()\n",
    "# workbench model:\n",
    "#dike_model = Model('dikesnet', function=function)\n",
    "dike_model_2, planning_steps = get_model_for_problem_formulation(3)\n",
    "\n",
    "from ema_workbench import (Model, RealParameter, ScalarOutcome)\n",
    "\n",
    "#\n",
    "from ema_workbench import MultiprocessingEvaluator, ema_logging\n",
    "from ema_workbench.em_framework.evaluators import SobolSampler\n",
    "from ema_workbench.em_framework import get_SALib_problem\n",
    "from ema_workbench import MultiprocessingEvaluator, ema_logging\n",
    "from ema_workbench.em_framework.evaluators import SobolSampler\n",
    "from ema_workbench.em_framework import get_SALib_problem\n",
    "\n",
    "ema_logging.log_to_stderr(ema_logging.INFO)\n",
    "\n",
    "with MultiprocessingEvaluator(dike_model_2) as evaluator:\n",
    "    experiments, results = evaluator.perform_experiments(scenarios=100, policies=5,\n",
    "                                                         uncertainty_sampling=SobolSampler)\n",
    "\n",
    "\n",
    "\n",
    "\n",
    "\n",
    "\n",
    "\n",
    "\n",
    "\n",
    "\"\"\"\n",
    "dike_model_2.outcomes = [ScalarOutcome('A.1_Total Costs', kind=ScalarOutcome.MINIMIZE),\n",
    "                       ScalarOutcome('A.1_Expected Number of Deaths', kind=ScalarOutcome.MINIMIZE),]\n",
    "\"\"\"\n",
    "\n"
   ]
  },
  {
   "cell_type": "code",
   "execution_count": 2,
   "outputs": [
    {
     "name": "stdout",
     "output_type": "stream",
     "text": [
      "<ema_workbench.em_framework.util.NamedObjectMap object at 0x000001BB9AAA6220>\n"
     ]
    }
   ],
   "source": [
    "print(dike_model_2.levers)\n"
   ],
   "metadata": {
    "collapsed": false,
    "pycharm": {
     "name": "#%%\n"
    }
   }
  },
  {
   "cell_type": "code",
   "execution_count": null,
   "outputs": [
    {
     "name": "stderr",
     "output_type": "stream",
     "text": [
      "[MainProcess/INFO] pool started with 8 workers\n",
      "  0%|                                                 | 0/5000 [00:00<?, ?it/s]"
     ]
    }
   ],
   "source": [
    "with MultiprocessingEvaluator(dike_model_2) as evaluator:\n",
    "    results = evaluator.optimize(nfe=5000, epsilons=[0.25, 0.1, 0.1])"
   ],
   "metadata": {
    "collapsed": false,
    "pycharm": {
     "name": "#%%\n",
     "is_executing": true
    }
   }
  },
  {
   "cell_type": "code",
   "execution_count": null,
   "outputs": [],
   "source": [],
   "metadata": {
    "collapsed": false,
    "pycharm": {
     "name": "#%%\n",
     "is_executing": true
    }
   }
  }
 ],
 "metadata": {
  "kernelspec": {
   "display_name": "Python 3",
   "language": "python",
   "name": "python3"
  },
  "language_info": {
   "codemirror_mode": {
    "name": "ipython",
    "version": 2
   },
   "file_extension": ".py",
   "mimetype": "text/x-python",
   "name": "python",
   "nbconvert_exporter": "python",
   "pygments_lexer": "ipython2",
   "version": "2.7.6"
  }
 },
 "nbformat": 4,
 "nbformat_minor": 0
}